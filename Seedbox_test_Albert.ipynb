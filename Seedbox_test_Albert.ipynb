{
 "cells": [
  {
   "cell_type": "markdown",
   "id": "a64b33b0",
   "metadata": {},
   "source": [
    "import numpy as np\n",
    "import pandas as pd\n",
    "import scipy.stats as stats\n",
    "import statsmodels.stats.api as sms\n",
    "import matplotlib as mpl\n",
    "import matplotlib.pyplot as plt"
   ]
  },
  {
   "cell_type": "markdown",
   "id": "5003fb42",
   "metadata": {},
   "source": [
    "#The aproximate probability distribution between the test group and the control group\n",
    "testsample = pd.read_csv('testSamples.csv')\n",
    "\n",
    "testsample.info()\n",
    "\n",
    "test = testsample.groupby('test_group').count()\n",
    "test.columns = ['count']\n",
    "display(test)\n",
    "\n",
    "test.hist(column='count', by='test_group')\n",
    "\n",
    "contral_rate = 44886 / 59721\n",
    "test_rate = 14835 / 59721\n",
    "print(contral_rate)\n",
    "print(test_rate)\n"
   ]
  },
  {
   "cell_type": "markdown",
   "id": "d2b5f795",
   "metadata": {},
   "source": [
    "df = pd.read_csv('transdata.csv')\n",
    "\n",
    "df.info()\n",
    "\n",
    "join = pd.merge(df, testsample, on='sample_id')\n",
    "print(join)\n",
    "\n",
    "#Is a user that must call-in to cancel more likely to generate at least 1 addition REBILL?\n",
    "#No, web from to cancel more likely to generate more REBILLS\n",
    "rebill = join.groupby(['test_group','transaction_type']).count()\n",
    "display(rebill)\n",
    "\n",
    "#Is a user that must call-in to cancel more likely to generate more revenues? \n",
    "#Yes, Test group generate more revenues\n",
    "revenues = join.groupby('test_group')['transaction_amount'].sum()\n",
    "display(revenues)\n",
    "\n",
    "#Is a user that must call-in more likely to produce a higher chargeback rate(CHARGEBACKs/REBILLs)?\n",
    "#No, web form more likely to produce a higher chargeback rate\n",
    "\n",
    "chargeback_rate_0 = 106 / 3756 #Use the number from the calculation above to find the rate\n",
    "chargeback_rate_1 = 57 / 3205\n",
    "print(chargeback_rate_0)\n",
    "print(chargeback_rate_1)"
   ]
  },
  {
   "cell_type": "code",
   "execution_count": null,
   "id": "8bd8bb09",
   "metadata": {},
   "outputs": [],
   "source": []
  }
 ],
 "metadata": {
  "kernelspec": {
   "display_name": "Python 3 (ipykernel)",
   "language": "python",
   "name": "python3"
  },
  "language_info": {
   "codemirror_mode": {
    "name": "ipython",
    "version": 3
   },
   "file_extension": ".py",
   "mimetype": "text/x-python",
   "name": "python",
   "nbconvert_exporter": "python",
   "pygments_lexer": "ipython3",
   "version": "3.9.7"
  }
 },
 "nbformat": 4,
 "nbformat_minor": 5
}
